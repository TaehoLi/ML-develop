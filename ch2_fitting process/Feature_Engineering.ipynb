{
 "cells": [
  {
   "cell_type": "markdown",
   "metadata": {},
   "source": [
    "# one hot encoding example"
   ]
  },
  {
   "cell_type": "code",
   "execution_count": 6,
   "metadata": {},
   "outputs": [
    {
     "data": {
      "text/plain": [
       "[array([1., 0., 0., 0., 0.]),\n",
       " array([0., 0., 0., 0., 1.]),\n",
       " array([0., 1., 0., 0., 0.]),\n",
       " array([0., 0., 0., 1., 0.]),\n",
       " array([0., 0., 1., 0., 0.])]"
      ]
     },
     "execution_count": 6,
     "metadata": {},
     "output_type": "execute_result"
    }
   ],
   "source": [
    "import numpy as np\n",
    "def get_one_hot(input_vector):\n",
    "    result = []\n",
    "    for i in input_vector:\n",
    "        newval = np.zeros(max(input_vector))\n",
    "        newval.itemset(i-1, 1)\n",
    "        result.append(newval)\n",
    "    return result\n",
    "    \n",
    "get_one_hot([1,5,2,4,3])"
   ]
  },
  {
   "cell_type": "markdown",
   "metadata": {},
   "source": [
    "# missing data imputation"
   ]
  },
  {
   "cell_type": "code",
   "execution_count": 7,
   "metadata": {},
   "outputs": [
    {
     "name": "stdout",
     "output_type": "stream",
     "text": [
      "[4.666666666666667, 5.333333333333333, 3.3333333333333335, 3.3333333333333335]\n",
      "[6.0, 3.0, 2.0, 1.0]\n",
      "[6.0, 5.0, 3.0, 3.0]\n"
     ]
    }
   ],
   "source": [
    "import numpy as np\n",
    "import pandas as pd\n",
    "from scipy import stats\n",
    "np.seterr(invalid='ignore')\n",
    "means=[]\n",
    "modes=[]\n",
    "medians=[]\n",
    "input_data=np.array([[6,5,3,np.NAN], [6,np.NAN, 5, 3],[np.NAN, 8,2,6],[2,3,np.NAN,1]])\n",
    "for i in input_data[:].T:\n",
    "    means.append( np.nanmean(i))\n",
    "    modes.append(stats.mode(i).mode[0])\n",
    "    medians.append(np.nanmedian(i))\n",
    "print(means)\n",
    "print(modes)\n",
    "print(medians)"
   ]
  },
  {
   "cell_type": "code",
   "execution_count": null,
   "metadata": {},
   "outputs": [],
   "source": []
  }
 ],
 "metadata": {
  "kernelspec": {
   "display_name": "Python 3",
   "language": "python",
   "name": "python3"
  },
  "language_info": {
   "codemirror_mode": {
    "name": "ipython",
    "version": 3
   },
   "file_extension": ".py",
   "mimetype": "text/x-python",
   "name": "python",
   "nbconvert_exporter": "python",
   "pygments_lexer": "ipython3",
   "version": "3.6.6"
  }
 },
 "nbformat": 4,
 "nbformat_minor": 2
}
