{
 "cells": [
  {
   "cell_type": "markdown",
   "metadata": {},
   "source": [
    "# Variance ex"
   ]
  },
  {
   "cell_type": "code",
   "execution_count": 2,
   "metadata": {},
   "outputs": [
    {
     "name": "stdout",
     "output_type": "stream",
     "text": [
      "Variance of first set:8.693877551020408\n",
      "Variance of second set:3070.6400000000003\n"
     ]
    }
   ],
   "source": [
    "import math\n",
    "def mean(sampleset):  #Definition header for the mean function\n",
    "    total=0\n",
    "    for element in sampleset:\n",
    "        total=total+element\n",
    "    return total/len(sampleset)\n",
    "\n",
    "def variance(sampleset):  #Definition header for the mean function\n",
    "    total=0\n",
    "    setmean=mean(sampleset)\n",
    "    for element in sampleset:\n",
    "        total=total+(math.pow(element-setmean,2))\n",
    "    return total/len(sampleset)\n",
    "\n",
    "myset1=[2.,10.,3.,6.,4.,6.,10.]  #We create the data set\n",
    "myset2=[1.,-100.,15.,-100.,21.]\n",
    "print (\"Variance of first set:\" + str(variance(myset1)))\n",
    "print (\"Variance of second set:\" + str(variance(myset2)))"
   ]
  },
  {
   "cell_type": "code",
   "execution_count": null,
   "metadata": {},
   "outputs": [],
   "source": []
  }
 ],
 "metadata": {
  "kernelspec": {
   "display_name": "Python 3",
   "language": "python",
   "name": "python3"
  },
  "language_info": {
   "codemirror_mode": {
    "name": "ipython",
    "version": 3
   },
   "file_extension": ".py",
   "mimetype": "text/x-python",
   "name": "python",
   "nbconvert_exporter": "python",
   "pygments_lexer": "ipython3",
   "version": "3.6.6"
  }
 },
 "nbformat": 4,
 "nbformat_minor": 2
}
